{
 "cells": [
  {
   "cell_type": "code",
   "execution_count": 1,
   "id": "e4339d52",
   "metadata": {},
   "outputs": [],
   "source": [
    "import requests\n",
    "import matplotlib.pyplot as plt\n",
    "import numpy as np\n",
    "import shutil"
   ]
  },
  {
   "cell_type": "code",
   "execution_count": null,
   "id": "cff5fd9e",
   "metadata": {
    "scrolled": true
   },
   "outputs": [
    {
     "name": "stdout",
     "output_type": "stream",
     "text": [
      "Requesting https://heatmap-external-c.strava.com/tiles/all/hot/3/0/3.png?v=19\n",
      "Wrote file 3_0_3.png\n",
      "Requesting https://heatmap-external-c.strava.com/tiles/all/hot/3/1/3.png?v=19\n",
      "Wrote file 3_1_3.png\n",
      "Requesting https://heatmap-external-c.strava.com/tiles/all/hot/3/2/3.png?v=19\n",
      "Wrote file 3_2_3.png\n",
      "Requesting https://heatmap-external-c.strava.com/tiles/all/hot/3/3/3.png?v=19\n",
      "Wrote file 3_3_3.png\n",
      "Requesting https://heatmap-external-c.strava.com/tiles/all/hot/3/4/3.png?v=19\n",
      "Wrote file 3_4_3.png\n",
      "Requesting https://heatmap-external-c.strava.com/tiles/all/hot/3/5/3.png?v=19\n",
      "Wrote file 3_5_3.png\n",
      "Requesting https://heatmap-external-c.strava.com/tiles/all/hot/3/6/3.png?v=19\n",
      "Wrote file 3_6_3.png\n",
      "Requesting https://heatmap-external-c.strava.com/tiles/all/hot/3/7/3.png?v=19\n"
     ]
    }
   ],
   "source": [
    "zoom_level = 3\n",
    "\n",
    "long, lat = zoom_level, 0\n",
    "is_long_lim = False\n",
    "is_lat_lim = False\n",
    "\n",
    "def get_url(long, lat, zoom):\n",
    "    return \"https://heatmap-external-c.strava.com/tiles/all/hot/\" + \\\n",
    "            str(long) + \"/\" + str(lat) + \"/\" + str(zoom) + \".png?v=19\"\n",
    "\n",
    "def get_image_filename(long, lat, zoom):\n",
    "    return str(long) + \"_\" + str(lat) + \"_\" + str(zoom) + \".png\"\n",
    "\n",
    "map_hierarchy = {}\n",
    "\n",
    "while not is_long_lim:\n",
    "    lat = 0\n",
    "    is_lat_lim = False\n",
    "    while not is_lat_lim:\n",
    "        url = get_url(long, lat, zoom_level)\n",
    "        print(\"Requesting\", url)\n",
    "        path = get_image_filename(long, lat, zoom_level)\n",
    "        r = requests.get(url, stream=True)\n",
    "        if r.status_code == 200:\n",
    "            with open(path, 'wb') as f:\n",
    "                r.raw.decode_content = True\n",
    "                shutil.copyfileobj(r.raw, f)\n",
    "            print(\"Wrote file\", path)\n",
    "            if long not in map_hierarchy:\n",
    "                map_hierarchy[long] = []\n",
    "            map_hierarchy[long].append(lat)\n",
    "        else:\n",
    "            print(r.status_code)\n",
    "            if lat > 0:\n",
    "                is_lat_lim = True\n",
    "                print(\"Reached max latitude index:\", lat)\n",
    "            elif lat == 0:\n",
    "                is_long_lim = True\n",
    "                is_lat_lim = True\n",
    "                print(\"Reached max longitude index:\", long)\n",
    "        lat += 1\n",
    "    long += 1"
   ]
  },
  {
   "cell_type": "code",
   "execution_count": null,
   "id": "e4297716",
   "metadata": {},
   "outputs": [],
   "source": [
    "nrows = len(map_hierarchy.keys())\n",
    "ncols = max([len(map_hierarchy[k]) for k in map_hierarchy])\n",
    "fig, axs = plt.subplots(nrows, ncols)\n",
    "i = 0\n",
    "for k in map_hierarchy:\n",
    "    j = 0\n",
    "    for lat in map_hierarchy[k]:\n",
    "        im = get_image_filename(k, lat, zoom_level)\n",
    "        axs[i][j].imshow(im)\n",
    "        j += 1\n",
    "    i += 1"
   ]
  },
  {
   "cell_type": "code",
   "execution_count": null,
   "id": "a6562e89",
   "metadata": {},
   "outputs": [],
   "source": []
  }
 ],
 "metadata": {
  "kernelspec": {
   "display_name": "Python 3 (ipykernel)",
   "language": "python",
   "name": "python3"
  },
  "language_info": {
   "codemirror_mode": {
    "name": "ipython",
    "version": 3
   },
   "file_extension": ".py",
   "mimetype": "text/x-python",
   "name": "python",
   "nbconvert_exporter": "python",
   "pygments_lexer": "ipython3",
   "version": "3.11.5"
  }
 },
 "nbformat": 4,
 "nbformat_minor": 5
}
